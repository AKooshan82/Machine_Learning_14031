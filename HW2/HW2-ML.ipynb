{
 "cells": [
  {
   "cell_type": "markdown",
   "metadata": {},
   "source": [
    "<h1 align=\"center\">Introduction to Machine Learning - 25737-2</h1>\n",
    "<h4 align=\"center\">Dr. R. Fatemi Zadeh</h4>\n",
    "<h4 align=\"center\">Sharif University of Technology, Fall 2024</h4>\n",
    "\n",
    "\n",
    "**<font color='red'>Plagiarism is strongly prohibited!</font>**\n",
    "\n",
    "\n",
    "**Student Name**: \n",
    "\n",
    "**Student ID**: \n",
    "\n"
   ]
  },
  {
   "cell_type": "markdown",
   "metadata": {},
   "source": [
    "Question 1"
   ]
  },
  {
   "cell_type": "markdown",
   "metadata": {},
   "source": [
    "In this question, we'll be covering what a **Gaussian Mixture Model** (GMM) is and **implementing it from scratch**.\n",
    "\n",
    "The idea of using **Gaussian mixtures** was popularised by Duda and Hart in their seminal 1973 text, '[Pattern Classification and Scene Analysis](https://www.semanticscholar.org/paper/Pattern-classification-and-scene-analysis-Duda-Hart/b07ce649d6f6eb636872527104b0209d3edc8188)'. However, it was not until 1977 that the **Expectation-Maximisation (EM)** was presented by Dempster, Laird and Rubin in their paper, '[Maximum Likelihood from Incomplete Data Via the EM Algorithm](https://rss.onlinelibrary.wiley.com/doi/epdf/10.1111/j.2517-6161.1977.tb01600.x)'. \n",
    "\n",
    "As we will see later, the EM algorithm is the **learning algorithm** behind a Gaussian Mixture Model (GMM), i.e. it solves the inverse problem by finding the **parameters** of the model.\n",
    "\n",
    "We will see that **GMMs** produce clusters with **Gaussian distributions**, which are much more **flexible, and reflective** of real-life data.\n"
   ]
  },
  {
   "cell_type": "code",
   "execution_count": 3,
   "metadata": {},
   "outputs": [],
   "source": [
    "#add liberies here\n",
    "import pandas as pd\n",
    "from scipy.stats import multivariate_normal\n",
    "import numpy as np\n",
    "from sklearn.preprocessing import  PowerTransformer"
   ]
  },
  {
   "cell_type": "markdown",
   "metadata": {},
   "source": [
    "Normal distribution in 1 dimension\n",
    "\n",
    "The **normal distribution** (or Gaussian distribution) is a continuous probability distribution characterised by its **bell shape**. It has the **probability density function** given by\n",
    "\n",
    "$$\n",
    "f_{\\mathcal{N}(\\mu, \\sigma^2)} (x) = \\frac{1}{\\sqrt{2 \\pi \\sigma^2}} \\exp \\left(-\\frac{(x-\\mu)^2}{2 \\sigma^2} \\right)\n",
    "$$\n",
    "\n",
    "where\n",
    "\n",
    "* $x$ is a real number\n",
    "* $\\mu$ is the mean\n",
    "* $\\sigma$ is the standard deviation\n",
    "* $\\pi=3.141592653 \\ldots$.\n",
    "\n",
    "<center>\n",
    "<img src=\"https://cdn.kastatic.org/ka-perseus-graphie/191a8f604b04f7b6e4a80d04db881c12798856f7.svg\" width=\"400\">\n",
    "</center>\n",
    "\n",
    "The **multivariate normal distribution** is the generalisation of the normal disitribution to $d$ dimensions. This time, the **probability density function** is given by\n",
    "\n",
    "$$\n",
    "f_{\\mathcal{N}({\\boldsymbol \\mu}, {\\boldsymbol \\Sigma})} (\\textbf{x}) = \\frac{1}{\\sqrt{(2 \\pi)^d \\det({\\boldsymbol \\Sigma})}} \\exp \\left(-\\frac{(\\textbf{x}-{\\boldsymbol \\mu})^T {\\boldsymbol \\Sigma}^{-1} (\\textbf{x}-{\\boldsymbol \\mu})}{2} \\right)\n",
    "$$\n",
    "\n",
    "where \n",
    "\n",
    "* $\\textbf{x} = (x_1, \\ldots, x_d)$ is a vector of length $d$\n",
    "* ${\\boldsymbol \\mu} = (\\mu_1, \\ldots, \\mu_d)$ is the mean vector\n",
    "* ${\\boldsymbol \\Sigma}$ is the covariance matrix of size $d \\times d$\n",
    "* $\\det({\\boldsymbol \\Sigma})$ is the determinant of the covariance matrix.\n",
    "\n",
    "<center>\n",
    "<img src=\"https://se.mathworks.com/help/examples/stats/win64/ComputeTheMultivariateNormalPdfExample_01.png\" width=\"400\">\n",
    "</center>\n",
    "\n",
    "The main difference to the univariate case, is that each feature/dimension can be **correlerated** with the other ones. These correlations are modelled by the **covariance matrix**, which allows for the density function to be **rotated** and **stretched** to model the data as well as possible.\n"
   ]
  },
  {
   "cell_type": "markdown",
   "metadata": {},
   "source": [
    "*Prerequisites*\n",
    "\n",
    "A **Gaussian Mixture** is simply a combination (or mixture) of Gaussian distributions. Note that a Guassian distribution is the same as a **Normal** distribution and I will use these terms interchangeably. It is a **common** distribution that appears in **clustering** problems where the data is sampled randomly from several groups that each follow a normal distribution. \n",
    "\n",
    "<hr>\n",
    "\n",
    "In **1 dimension**, the model is a weighted sum of **univariate** normal distributions:\n",
    "\n",
    "$$\n",
    "f_{GMM} (x) = \\sum_{j=1}^{k} \\pi_j f_{\\mathcal{N}(\\mu_j, \\sigma_{j}^2)} (x)\n",
    "$$\n",
    "\n",
    "where \n",
    "\n",
    "* k = number of clusters\n",
    "* x is a real number\n",
    "* $f_{\\mathcal{N}(\\mu, \\sigma^2)}$ is the density of a normal distribution with mean $\\mu$ and variance $\\sigma^2$\n",
    "* $\\pi = (\\pi_1, ..., \\pi_k)$ are the weights subject to\n",
    "\n",
    "$$\n",
    "0 \\leq \\pi_j \\leq 1, \\quad \\sum_{j=1}^{k} \\pi_j = 1.\n",
    "$$\n",
    "\n",
    "<hr>\n",
    "\n",
    "In **d dimensions**, the model is a weighted sum of **multivariate** normal distributions:\n",
    "\n",
    "$$\n",
    "f_{GMM} (\\textbf{x}) = \\sum_{j=1}^{k} \\pi_j f_{\\mathcal{N}({\\boldsymbol \\mu}_j, {\\boldsymbol \\Sigma}_{j})} (\\textbf{x})\n",
    "$$\n",
    "\n",
    "where\n",
    "\n",
    "* $\\textbf{x} = (x_1, \\ldots, x_d)$ is now a vector of length $d$\n",
    "* $f_{\\mathcal{N}({\\boldsymbol \\mu}_j, {\\boldsymbol \\Sigma}_{j})}$ is the density of a **multivariate** normal distribution with mean vector ${\\boldsymbol \\mu}$ and covariance matrix ${\\boldsymbol \\Sigma}$\n",
    "* $\\pi = (\\pi_1, ..., \\pi_k)$ are the weights subject to the same conditions as before.\n",
    "\n",
    "\n",
    "**Bayes' theorem**\n",
    "\n",
    "The more **general version** of the formula, which we will also use, is given by\n",
    "\n",
    "$$\n",
    "\\mathbb{P}(A_j | B) = \\frac{\\mathbb{P}(B | A_j) \\mathbb{P}(A_j)}{\\sum_{t} \\mathbb{P}(B | A_t) \\mathbb{P}(A_t)}.\n",
    "$$\n",
    "\n",
    "This is used when you need to **compare several posterior distributions** and choose the most probable one. "
   ]
  },
  {
   "cell_type": "markdown",
   "metadata": {},
   "source": [
    "1. Example in 1D\n",
    "\n",
    "\n",
    "Suppose that every month for a year, you **survey random people** from the population and ask them whether they **approve** of the prime minister/president or not. We will use Boris Johnson as an example. As you might expect, people who **support** his party (the Conservatives) are **more likely** to approve of him, whilst people who support the main **opposition** party (Labour) are **less likely** to approve of him. The distribution produced is a Gaussian Mixture.\n",
    "\n",
    "Generate plots showing the approval ratings for both parties and their mixed distribution(similar to shown plots)?"
   ]
  },
  {
   "cell_type": "code",
   "execution_count": 4,
   "metadata": {},
   "outputs": [],
   "source": [
    "# Monthly approval ratings for Boris Johnson (dates: Aug 2021- July 2022, source: YouGov)\n",
    "df_approval = pd.DataFrame({'Conservative': [67,70,66,57,47,46,50,60,59,55,51,50], 'Labour': [11,7,7,6,6,4,6,4,6,6,5,4]})\n",
    "#your code"
   ]
  },
  {
   "attachments": {
    "image.png": {
     "image/png": "[encoded data removed]"
    }
   },
   "cell_type": "markdown",
   "metadata": {},
   "source": [
    "![image.png](attachment:image.png)"
   ]
  },
  {
   "cell_type": "markdown",
   "metadata": {},
   "source": [
    "How do plots change if we included data of **additional** parties (like Liberal Democrats, Greens, etc)?"
   ]
  },
  {
   "cell_type": "markdown",
   "metadata": {},
   "source": [
    "2. Example in 2D\n",
    "\n",
    "For this example, we will select 2 features from the famous **Iris dataset**. This contains observations of flowers, like petal lengths, for **3 different species**, so k=3."
   ]
  },
  {
   "cell_type": "markdown",
   "metadata": {},
   "source": [
    "Loads the Iris dataset and selects the 'sepal_length', 'petal_length', and 'species' columns.\n",
    "\n",
    "Creates a 2D scatter plot of 'sepal_length' versus 'petal_length', coloring the points based on species.\n",
    "\n",
    "Estimates a 2D Gaussian mixture model for each species using the 'sepal_length' and 'petal_length' features, and plots the resulting Gaussian mixture as a 3D surface plot.\n",
    "\n",
    "Make sure to use the multivariate_normal.pdf function for estimating the Gaussian mixture and include proper titles and axis labels for the plots."
   ]
  },
  {
   "cell_type": "code",
   "execution_count": 1,
   "metadata": {},
   "outputs": [],
   "source": [
    "#code here"
   ]
  },
  {
   "cell_type": "markdown",
   "metadata": {},
   "source": [
    "Given the **density plot**, and the fact that we're searching for 3 clusters, how do we decide which data points belong **together** (i.e. correspond to the same flower), and which ones don't?"
   ]
  },
  {
   "cell_type": "markdown",
   "metadata": {},
   "source": [
    "**Expectation-Maximisation algorithm**\n",
    "\n",
    "\n",
    "We'll start by building the **intuition** on how EM works by working through an example in 1 dimension. We will then formalise the general algorithm in d dimensions afterwards. \n",
    "\n",
    "Let's start with some **data** that we think has been generated by a **Gaussian mixture** with **k=2** classes in **1 dimension**.\n",
    "\n",
    "\n",
    "\n",
    "## Initialisation\n",
    "\n",
    "The **first task** for the algorithm is to **randomly choose parameters** $\\mu_1, \\mu_2, \\sigma_1^2, \\sigma_2^2$ for the two normal distributions. We also need to choose some **weights** $\\pi_1, \\pi_2$, which tells us the **relative heights** of the curves. A good choice for the initial weights is $(\\pi_1, \\pi_2)=(0.5,0.5)$, i.e. the uniform distribution.\n",
    "\n",
    "## E-step\n",
    "\n",
    "The **next step** (called the E-step) is to calculate how likely does each data point belong to each **class**. For example, consider the **rightmost point** on the diagram. Even though it is very **far from both** the green and orange distributions (and so is **unlikely** to have been generated from either of them), it is much **closer** to the green one. This means it is **more likely** to have been generated from the green distribution than the orange one, even if these probabilites are small. \n",
    "\n",
    "<hr>\n",
    "\n",
    "**Bayes' formula** uses this idea of likelihood to find the probabilities we want:\n",
    "\n",
    "$$\n",
    "a_i = \\mathbb{P}(C_1 | x_i) = \\frac{\\mathbb{P}(x_i|C_1) \\mathbb{P}(C_1)}{\\mathbb{P}(x_i|C_1) \\mathbb{P}(C_1) + \\mathbb{P}(x_i|C_2) \\mathbb{P}(C_2)} = \\frac{\\mathbb{P}(x_i|C_1) \\pi_1}{\\mathbb{P}(x_i|C_1) \\pi_1 + \\mathbb{P}(x_i|C_2) \\pi_2}\n",
    "$$\n",
    "\n",
    "where the **likelihood** is given by\n",
    "\n",
    "$$\n",
    "\\mathbb{P}(x_i|C_1) = \\frac{1}{\\sqrt{2 \\pi \\sigma_1^2}} \\exp \\left(-\\frac{(x_i-\\mu_1)^2}{2 \\sigma_1^2} \\right)\n",
    "$$\n",
    "\n",
    "<hr>\n",
    "\n",
    "Note that since there are only $k=2$ classes, we have $b_i = \\mathbb{P}(C_2 | x_i) = 1 - \\mathbb{P}(C_1 | x_i) = 1-a_i$. \n",
    "\n",
    "E.g. if $a_i = 0.99$ then $b_i = 0.01$. \n",
    "\n",
    "<hr>\n",
    "\n",
    "So now we can think of the data points as being a **bit of orange** and a **bit of green** together. The exact proportion depends on the probabilities.\n",
    "\n",
    "## M-step\n",
    "\n",
    "Now we can **update the parameters** (called the M-step). Unlike in k-Means, which assigns classes using the **maximum** of these probabilites, GMMs use the **probabilities** to estimate the means and variances as weighted averages. \n",
    "\n",
    "For the **orange** distribution:\n",
    "\n",
    "$$\n",
    "\\mu_1 = \\frac{\\sum_{i=1}^{n} a_i x_i}{\\sum_{i=1}^{n} a_i}, \\quad \\sigma_1^2 = \\frac{\\sum_{i=1}^{n} a_i (x_i - \\mu_1)^2}{\\sum_{i=1}^{n} a_i}\n",
    "$$\n",
    "\n",
    "And for the **green** distribution:\n",
    "$$\n",
    "\\mu_2 = \\frac{\\sum_{i=1}^{n} b_i x_i}{\\sum_{i=1}^{n} b_i}, \\quad \\sigma_2^2 = \\frac{\\sum_{i=1}^{n} b_i (x_i - \\mu_1)^2}{\\sum_{i=1}^{n} b_i}\n",
    "$$\n",
    "\n",
    "These are just **weighted averages** of the usual formulas for mean and variance. The idea is that points **closest** to the distribution **contribute the most** to updating the correspoding parameters. \n",
    "\n",
    "<hr>\n",
    "\n",
    "And we can't forget about updating the weights as well. This is done by **averaging** over the posterior probabilities:\n",
    "\n",
    "$$\n",
    "\\pi_1 = \\frac{\\sum_{i=1}^{n} a_i}{n}, \\quad \\pi_2 = \\frac{\\sum_{i=1}^{n} b_i}{n} \n",
    "$$\n",
    "\n",
    "You can think of this as calculating the **proportion** of the data that each cluster is describing. \n",
    "\n",
    "<hr>\n",
    "\n",
    "And all that is left to do is to **iterate** until convergence! \n"
   ]
  },
  {
   "cell_type": "markdown",
   "metadata": {},
   "source": [
    "Implementation\n",
    "\n",
    "You are given the partial implementation of a Gaussian Mixture Model (GMM) class. Complete the following parts of the code"
   ]
  },
  {
   "cell_type": "code",
   "execution_count": null,
   "metadata": {},
   "outputs": [],
   "source": [
    "class GMM:\n",
    "    def __init__(self, k, max_iter=100, random_state = 0):\n",
    "        self.k = k\n",
    "        self.max_iter = max_iter\n",
    "        self.random_state = random_state\n",
    "\n",
    "    def initialise(self, X):\n",
    "        self.shape = X.shape\n",
    "        self.n, self.d = self.shape\n",
    "        \n",
    "        self.pi = np.full(shape=self.k, fill_value=1/self.k)\n",
    "        self.responsibilities = np.full(shape=self.shape, fill_value=1/self.k)\n",
    "        \n",
    "        # TODO: Initialize mu and sigma here\n",
    "        pass\n",
    "\n",
    "    def E_step(self, X):\n",
    "        # TODO: Update the responsibilities by holding mu and sigma constant\n",
    "        pass\n",
    "    \n",
    "    def M_step(self, X):\n",
    "        # TODO: Update pi, mu, and sigma by holding responsibilities constant\n",
    "        pass\n",
    "\n",
    "    def fit(self, X):\n",
    "        self.initialise(X)\n",
    "        \n",
    "        for iteration in range(self.max_iter):\n",
    "            self.E_step(X)\n",
    "            self.M_step(X)\n",
    "    \n",
    "    def predict_proba(self, X):\n",
    "        likelihood = np.zeros((self.n, self.k))\n",
    "        for j in range(self.k):\n",
    "            distribution = multivariate_normal(mean=self.mu[j], cov=self.sigma[j])\n",
    "            likelihood[:,j] = distribution.pdf(X)\n",
    "        \n",
    "        numerator = likelihood * self.pi\n",
    "        denominator = numerator.sum(axis=1)[:, np.newaxis]\n",
    "        responsibilities = numerator / denominator\n",
    "        return responsibilities\n",
    "    \n",
    "    def predict(self, X):\n",
    "        responsibilities = self.predict_proba(X)\n",
    "        return np.argmax(responsibilities, axis=1)\n",
    "    \n",
    "    def fit_predict(self, X):\n",
    "        self.fit(X)\n",
    "        predictions = self.predict(X)\n",
    "        return predictions"
   ]
  },
  {
   "cell_type": "markdown",
   "metadata": {},
   "source": [
    "We will apply it to this months TPS competition which is on **unsupervised clustering**.\n",
    "The dataset is made up of **29 features** and **98,000** data points and the task is to **cluster the data**."
   ]
  },
  {
   "cell_type": "code",
   "execution_count": null,
   "metadata": {},
   "outputs": [],
   "source": [
    "data=pd.read_csv('tabular-playground-series-jul-2022/data.csv', index_col='id')\n",
    "\n",
    "# Preprocess data\n",
    "scaled_data = pd.DataFrame(PowerTransformer().fit_transform(data))\n",
    "scaled_data.columns = data.columns\n",
    "drop_feats = [f'f_0{i}' for i in range(7)]\n",
    "drop_feats = drop_feats + [f'f_{i}' for i in range(14,22)]\n",
    "X = scaled_data.drop(drop_feats, axis=1).values"
   ]
  },
  {
   "cell_type": "code",
   "execution_count": null,
   "metadata": {},
   "outputs": [],
   "source": [
    "%%time\n",
    "\n",
    "# Gaussian Mixture Model\n",
    "gmm = GMM(k=7, max_iter=100)\n",
    "preds = gmm.fit_predict(X)"
   ]
  },
  {
   "cell_type": "markdown",
   "metadata": {},
   "source": [
    "Question 2"
   ]
  },
  {
   "cell_type": "markdown",
   "metadata": {},
   "source": [
    "In this question, we are examining two common estimators of variance. The first estimator, related to MLE (Maximum Likelihood Estimation), is:\n",
    "\n",
    "$$\n",
    "\\hat{\\sigma}^2 = \\frac{1}{n} \\sum_{i=1}^{n} (x_i - \\bar{x})^2\n",
    "$$\n",
    "\n",
    "The next estimator, including Bessel's correction, is:\n",
    "\n",
    "$$\n",
    "\\hat{\\sigma}^2 = \\frac{1}{n-1} \\sum_{i=1}^{n} (x_i - \\bar{x})^2\n",
    "$$\n",
    "\n",
    "* Generate 1000 samples from a Normal distribution $ \\mathcal{N}(2, 2) $ and calculate both estimators for each sample."
   ]
  },
  {
   "cell_type": "code",
   "execution_count": null,
   "metadata": {},
   "outputs": [],
   "source": []
  },
  {
   "cell_type": "markdown",
   "metadata": {},
   "source": [
    "- Now, plot these values on a graph.\n",
    "- Considering the graph, are these two estimators consistent with each other?"
   ]
  },
  {
   "cell_type": "code",
   "execution_count": null,
   "metadata": {},
   "outputs": [],
   "source": []
  },
  {
   "cell_type": "markdown",
   "metadata": {},
   "source": [
    "Answer:"
   ]
  },
  {
   "cell_type": "markdown",
   "metadata": {},
   "source": [
    "Generate 100,000 data samples from the same distribution and calculate the mean of each estimator.\n",
    "\n",
    "Considering these values, are the two estimators unbiased?"
   ]
  },
  {
   "cell_type": "code",
   "execution_count": null,
   "metadata": {},
   "outputs": [],
   "source": []
  },
  {
   "cell_type": "markdown",
   "metadata": {},
   "source": [
    "Answer:"
   ]
  }
 ],
 "metadata": {
  "kernelspec": {
   "display_name": "Python 3",
   "language": "python",
   "name": "python3"
  },
  "language_info": {
   "codemirror_mode": {
    "name": "ipython",
    "version": 3
   },
   "file_extension": ".py",
   "mimetype": "text/x-python",
   "name": "python",
   "nbconvert_exporter": "python",
   "pygments_lexer": "ipython3",
   "version": "3.11.5"
  }
 },
 "nbformat": 4,
 "nbformat_minor": 2
}
